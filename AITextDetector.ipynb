{
 "cells": [
  {
   "cell_type": "markdown",
   "id": "2c14424f",
   "metadata": {},
   "source": [
    "## AI Text Detector"
   ]
  },
  {
   "cell_type": "markdown",
   "id": "cbc080d4",
   "metadata": {},
   "source": [
    "### Gerekli Kütüphaneleri yükleme"
   ]
  },
  {
   "cell_type": "code",
   "execution_count": 2,
   "id": "4e052869",
   "metadata": {},
   "outputs": [],
   "source": [
    "import numpy as np\n",
    "import pandas as pd\n",
    "import tensorflow as tf\n",
    "from sklearn.model_selection import train_test_split\n",
    "from sklearn.metrics import confusion_matrix, ConfusionMatrixDisplay\n",
    "from tensorflow.keras.models import Sequential\n",
    "from tensorflow.keras.layers import Dense, Dropout, LSTM, GlobalMaxPooling1D\n",
    "from tensorflow.keras.optimizers import Adam\n",
    "from tensorflow.keras.callbacks import EarlyStopping\n",
    "from gensim.models import Word2Vec\n",
    "from IPython.display import display, HTML\n",
    "import matplotlib.pyplot as plt"
   ]
  },
  {
   "cell_type": "markdown",
   "id": "2cd8c83d",
   "metadata": {},
   "source": [
    "### Eğitim veri setini yükleme"
   ]
  },
  {
   "cell_type": "code",
   "execution_count": 3,
   "id": "cf775aaa",
   "metadata": {},
   "outputs": [],
   "source": [
    "train = pd.read_csv(\"VeriSeti1.csv\")"
   ]
  },
  {
   "cell_type": "markdown",
   "id": "4f7a881a",
   "metadata": {},
   "source": [
    "### Ek veri setini yükleme ve birleştirme"
   ]
  },
  {
   "cell_type": "code",
   "execution_count": 4,
   "id": "0f5817a1",
   "metadata": {},
   "outputs": [],
   "source": [
    "additional_data = pd.read_csv(\"VeriSeti2.csv\", sep=',')\n",
    "additional_data = additional_data.rename(columns={'generated': 'etiket'})\n",
    "additional_data = additional_data[[\"kaynak_metin\"]]\n",
    "additional_data.columns = [\"metin\"]\n",
    "additional_data['metin'] = additional_data['metin'].str.replace('\\n', '')\n",
    "additional_data[\"etiket\"] = 1\n",
    "\n",
    "train = pd.concat([train, additional_data])"
   ]
  },
  {
   "cell_type": "markdown",
   "id": "ab8060c9",
   "metadata": {},
   "source": [
    "### Verileri özellik ve hedef değişkenlere ayırma"
   ]
  },
  {
   "cell_type": "code",
   "execution_count": 5,
   "id": "3b561b15",
   "metadata": {},
   "outputs": [],
   "source": [
    "X = train['metin']\n",
    "y = train['etiket']"
   ]
  },
  {
   "cell_type": "markdown",
   "id": "69680dd4",
   "metadata": {},
   "source": [
    "### Kelime vektörlerini oluşturma (Word2Vec)"
   ]
  },
  {
   "cell_type": "code",
   "execution_count": 6,
   "id": "024f8cfa",
   "metadata": {},
   "outputs": [],
   "source": [
    "tokenized_text = X.apply(lambda x: x.split())\n",
    "word2vec_model = Word2Vec(tokenized_text, vector_size=100, window=5, min_count=1, sg=1)\n",
    "word_vectors = word2vec_model.wv"
   ]
  },
  {
   "cell_type": "markdown",
   "id": "f6d950ff",
   "metadata": {},
   "source": [
    "### Eğitim verisi metinleri kelime vektörlerine dönüştürme"
   ]
  },
  {
   "cell_type": "code",
   "execution_count": 7,
   "id": "2b95e581",
   "metadata": {},
   "outputs": [],
   "source": [
    "max_length = 100 \n",
    "def text_to_vector(text, max_length, word_vectors):\n",
    "    tokens = text.split()\n",
    "    vector = np.zeros((max_length, 100))\n",
    "    for j, token in enumerate(tokens):\n",
    "        if j == max_length:\n",
    "            break\n",
    "        if token in word_vectors:\n",
    "            vector[j, :] = word_vectors[token]\n",
    "    return vector\n",
    "\n",
    "X_data = np.array([text_to_vector(text, max_length, word_vectors) for text in X])"
   ]
  },
  {
   "cell_type": "markdown",
   "id": "1a471a15",
   "metadata": {},
   "source": [
    "### Eğitim ve test verisi olarak ayırma"
   ]
  },
  {
   "cell_type": "code",
   "execution_count": 8,
   "id": "b30218ce",
   "metadata": {},
   "outputs": [],
   "source": [
    "X_train, X_test, y_train, y_test = train_test_split(X_data, y, test_size=0.2, random_state=42)"
   ]
  },
  {
   "cell_type": "markdown",
   "id": "f9d78c4d",
   "metadata": {},
   "source": [
    "### LSTM tabanlı RNN modelini oluşturma"
   ]
  },
  {
   "cell_type": "code",
   "execution_count": 10,
   "id": "baf67858",
   "metadata": {},
   "outputs": [],
   "source": [
    "model = Sequential([\n",
    "    LSTM(64, input_shape=(max_length, 100), return_sequences=True),\n",
    "    GlobalMaxPooling1D(),\n",
    "    Dense(64, activation='relu'),\n",
    "    Dropout(0.5),\n",
    "    Dense(1, activation='sigmoid')\n",
    "])"
   ]
  },
  {
   "cell_type": "markdown",
   "id": "7633a2b4",
   "metadata": {},
   "source": [
    "### Modeli derleme"
   ]
  },
  {
   "cell_type": "code",
   "execution_count": 11,
   "id": "03a5f11f",
   "metadata": {},
   "outputs": [],
   "source": [
    "model.compile(optimizer=Adam(learning_rate=0.001), loss='binary_crossentropy', metrics=['accuracy'])"
   ]
  },
  {
   "cell_type": "markdown",
   "id": "836c06b0",
   "metadata": {},
   "source": [
    "### Erken durdurma kullanarak modeli eğitme"
   ]
  },
  {
   "cell_type": "code",
   "execution_count": 13,
   "id": "2c4697cf",
   "metadata": {},
   "outputs": [
    {
     "name": "stdout",
     "output_type": "stream",
     "text": [
      "Epoch 1/20\n",
      "366/366 [==============================] - 33s 89ms/step - loss: 0.0236 - accuracy: 0.9928 - val_loss: 0.0529 - val_accuracy: 0.9809\n",
      "Epoch 2/20\n",
      "366/366 [==============================] - 32s 87ms/step - loss: 0.0144 - accuracy: 0.9961 - val_loss: 0.0497 - val_accuracy: 0.9833\n",
      "Epoch 3/20\n",
      "366/366 [==============================] - 32s 87ms/step - loss: 0.0144 - accuracy: 0.9951 - val_loss: 0.0431 - val_accuracy: 0.9894\n",
      "Epoch 4/20\n",
      "366/366 [==============================] - 32s 87ms/step - loss: 0.0082 - accuracy: 0.9974 - val_loss: 0.0413 - val_accuracy: 0.9894\n",
      "Epoch 5/20\n",
      "366/366 [==============================] - 32s 88ms/step - loss: 0.0055 - accuracy: 0.9984 - val_loss: 0.0392 - val_accuracy: 0.9908\n",
      "Epoch 6/20\n",
      "366/366 [==============================] - 32s 87ms/step - loss: 0.0089 - accuracy: 0.9973 - val_loss: 0.0454 - val_accuracy: 0.9880\n",
      "Epoch 7/20\n",
      "366/366 [==============================] - 32s 87ms/step - loss: 0.0055 - accuracy: 0.9985 - val_loss: 0.0420 - val_accuracy: 0.9891\n",
      "Epoch 8/20\n",
      "366/366 [==============================] - 31s 86ms/step - loss: 0.0025 - accuracy: 0.9993 - val_loss: 0.0671 - val_accuracy: 0.9857\n"
     ]
    }
   ],
   "source": [
    "early_stop = EarlyStopping(monitor='val_loss', patience=3, restore_best_weights=True)\n",
    "history = model.fit(X_train, y_train, epochs=20, batch_size=32, validation_split=0.2, callbacks=[early_stop])"
   ]
  },
  {
   "cell_type": "markdown",
   "id": "8104d36f",
   "metadata": {},
   "source": [
    "### Örnek metinleri ve etiketleri seçme"
   ]
  },
  {
   "cell_type": "code",
   "execution_count": 18,
   "id": "d6c96193",
   "metadata": {},
   "outputs": [],
   "source": [
    "sample_indices = np.random.choice(train.index, size=5, replace=False)\n",
    "sample_texts = train.loc[sample_indices, 'metin']\n",
    "sample_labels = train.loc[sample_indices, 'etiket']"
   ]
  },
  {
   "cell_type": "markdown",
   "id": "31f7e546",
   "metadata": {},
   "source": [
    "### Örnek metinleri kelime vektörlerine dönüştürme"
   ]
  },
  {
   "cell_type": "code",
   "execution_count": 19,
   "id": "68b8acdd",
   "metadata": {},
   "outputs": [],
   "source": [
    "sample_X = np.zeros((len(sample_texts), max_length, 100)) \n",
    "for i, tokens in enumerate(sample_texts.apply(lambda x: x.split())):\n",
    "    for j, token in enumerate(tokens):\n",
    "        if j == max_length:\n",
    "            break\n",
    "        if token in word_vectors:\n",
    "            sample_X[i, j, :] = word_vectors[token]"
   ]
  },
  {
   "cell_type": "markdown",
   "id": "f7f832ba",
   "metadata": {},
   "source": [
    "### Örnek metinler üzerinde tahminler yapma"
   ]
  },
  {
   "cell_type": "code",
   "execution_count": 20,
   "id": "eacbf597",
   "metadata": {},
   "outputs": [
    {
     "name": "stdout",
     "output_type": "stream",
     "text": [
      "1/1 [==============================] - 0s 85ms/step\n"
     ]
    }
   ],
   "source": [
    "sample_preds_probs = model.predict(sample_X)\n",
    "sample_preds = (sample_preds_probs > 0.5).astype(int).flatten()"
   ]
  },
  {
   "cell_type": "markdown",
   "id": "84c5883a",
   "metadata": {},
   "source": [
    "### Tahmin sonuçları örnek metinler ile birlikte yazdırma"
   ]
  },
  {
   "cell_type": "code",
   "execution_count": 21,
   "id": "050fcd03",
   "metadata": {
    "scrolled": false
   },
   "outputs": [
    {
     "data": {
      "text/html": [
       "<b>Metin:</b><br><p>Güneşi göremediğiniz kirli bir dünyada yaşamak ideal değildir; kirliliğin çoğu araba emisyonlarından kaynaklanmaktadır. Bugünün insanları olarak araba olmadan nasıl olacağını hayal edemiyoruz, ancak araba sahibi olmamanın da avantajları var. Almanya'nın VAUBAN şehrinde sakinlerinin arabadan vazgeçtiği bir şehir var.<br><br>VAUBAN, \"arabasız\" sokaklara sahip deneysel bir topluluktur. \"Araba sahipliğine izin veriliyor, ancak sitenin kenarında büyük garajları park etmek için yalnızca iki yer var; burada bir araba sahibi bir evle birlikte 40.000 dolara bir alan satın alıyor\"s1p2. İlk bakışta bu deneysel kasaba tamamen çirkin görünebilir, ancak çok iyi çalışıyor; bu topluluğun 5.500 sakini var. Araba olmadan hayat çok daha zor görünebilir, dolaşmak çaba gerektirir, ancak bunun gibi kasabalarda tüm alışveriş yerleri ve parklar evinize yürüme mesafesindedir. Mağazalar dağınık olmadığından mağazaya arabayla 15 dakikada ulaşmak gerekmez, yalnızca 5 dakikalık bir yürüyüşle ulaşılabilir. Bir belde sakini \"Arabam olduğunda hep gergindim\"s1p3 dedi. Bana göre bu, sakinin artık arabaya binme ve kaza yapma endişesi taşımadığı, tek endişelenmesi gereken otobüsü yakalamak olduğu anlamına geliyor.<br><br>Araba tıkanıklığı, eve ya da işe gitmeye çalışırken en kötüsüdür; dünyanın dört bir yanındaki büyük başkentlerde, belirli kişilerin her hafta belirli olmayan bir günde araba sürmesi yasaklanmıştır. Paris bu ülkelerden birine örnek, eğer yakalanırsanız 31 dolar para cezası ödemek zorunda kalıyorsunuz. 5 gün sonra trafik sıkışıklığı %60 azaldı. \"BBC'ye göre toplu taşıma Cuma'dan Pazartesi'ye kadar ücretsizdi\"s2p18. Diğer ülkeler de bunu yapıyor. Kolombiya'nın BOGOTA kentinde \"Arabasız Bir Gün\" adında bir program var. Bu programda tüm arabalar yasak, ulaşımın tek yolu taksi ve otobüsler, aynı fikirde olmayanlar 25 dolar para cezası ödemek zorunda.\" Carlos Plaza'nın s3p24 ifadesiyle stres atmak için iyi bir fırsat dedi. Bu olaydan birçok ülke fikri alıp kendi ülkelerinde uygulamak için gözlem yapmaya gelmiş, ayrıca insanların daha aktif olması nedeniyle parklar ve spor merkezleri ortaya çıkmıştır.<br><br>Araba sahibi olmak sanıldığı kadar kolay değil, araba sahibi olmak ve ehliyet almak son yıllarda azaldı. Bunun nedeni insanların çevreye zarar vermeden dolaşmanın daha iyi yollarını bulmasıdır. Paris, Fransa, Pekin ve Çin'e rakip olacak kadar kötü bir dumana sahipti, ancak yasalar ve halkın işbirliğiyle dumanı azaltmayı başardılar. Araba sahibi olmamanın pek çok avantajı var, rahatlayabilir, stresinizi atabilir, çevreye yardımcı olabilir, araba emisyonlarının neredeyse yok denecek kadar azalması nedeniyle gündüzleri güneşi görebilirsiniz.<br>"
      ],
      "text/plain": [
       "<IPython.core.display.HTML object>"
      ]
     },
     "metadata": {},
     "output_type": "display_data"
    },
    {
     "data": {
      "text/html": [
       "<b>Gerçek Etiket:</b> İnsan Yazımı"
      ],
      "text/plain": [
       "<IPython.core.display.HTML object>"
      ]
     },
     "metadata": {},
     "output_type": "display_data"
    },
    {
     "data": {
      "text/html": [
       "<b>Tahmin Edilen:</b> İnsan Yazımı (%100.00 oranında)<br>"
      ],
      "text/plain": [
       "<IPython.core.display.HTML object>"
      ]
     },
     "metadata": {},
     "output_type": "display_data"
    },
    {
     "name": "stdout",
     "output_type": "stream",
     "text": [
      "\n",
      "\n"
     ]
    },
    {
     "data": {
      "text/html": [
       "<b>Metin:</b><br><p>Grup halinde çalışmanın tek başına çalışmaya göre pek çok farklı avantajı vardır. Sınıf arkadaşları arasında fikir alışverişini teşvik eder ve onlara işbirliği yapma ve kaynakları birleştirme fırsatı sunar. Grup çalışması aynı zamanda öğrencilerin sosyal ve iletişim becerilerini geliştirmeye ve geliştirmeye de yardımcı olur. Öğrencilerin grup çalışmasından en iyi şekilde yararlanabilmeleri için öğretmenlerin süreci aktif olarak kolaylaştırmaları gerekir. Bunu, proje için net beklentiler oluşturarak, grubun görevde kalmasına yardımcı olacak destekleyici rehberlik sağlayarak ve rol ve sorumlulukların ana hatlarını çizerek yapabilirler. Öğretmenler ayrıca grup içindeki bireylere görevler atadıklarından emin olmalıdır çünkü bu, hesap verebilirliğin sağlanmasına yardımcı olur.Öğretmenlerin öğrencileri birlikte çalışmaya teşvik etmesinin üç temel nedeni vardır. Birincisi, öğrencilerin işyerine girdiklerinde kendilerine fayda sağlayacak hayati işbirliği ve çatışma çözme becerilerini geliştirmelerine olanak tanır. İkincisi, sınıf üyeleri karmaşık görevlerin üstesinden gelmek için birlikte çalıştıkça, yaratıcı düşünme ve problem çözme yeteneklerinde artışa yol açabilir. Son olarak grup çalışması öğrencilere bilgilerini paylaşma ve birbirlerinden öğrenme fırsatı verir.Grup çalışması için en uygun etkinlikler arasında problem çözme, araştırma, tartışma veya akran desteği gerektiren etkinlikler yer alır. Örneğin, sınıf üyeleri yeni bir ürün için bir pazarlama kampanyası tasarlamak için birlikte çalışabilir, bir vaka çalışmasına ilişkin bakış açılarını sunabilir veya bir grup araştırma makalesi için bir konu seçebilir.Genel olarak, bir grup halinde çalışmanın öğrenciler için çok faydalı olma potansiyeli vardır. Öğretmenler, öğrencilere birlikte çalışma fırsatı sunarak sınıfta ve ötesinde uygulanabilecek önemli becerilerin geliştirilmesine yardımcı olabilirler. Bu nedenle öğretmenlerin grup çalışmasının gelişmesi için destekleyici bir ortam yaratması önemlidir.<br>"
      ],
      "text/plain": [
       "<IPython.core.display.HTML object>"
      ]
     },
     "metadata": {},
     "output_type": "display_data"
    },
    {
     "data": {
      "text/html": [
       "<b>Gerçek Etiket:</b> Yapay Zeka Üretimi"
      ],
      "text/plain": [
       "<IPython.core.display.HTML object>"
      ]
     },
     "metadata": {},
     "output_type": "display_data"
    },
    {
     "data": {
      "text/html": [
       "<b>Tahmin Edilen:</b> Yapay Zeka Üretimi (%100.00 oranında)<br>"
      ],
      "text/plain": [
       "<IPython.core.display.HTML object>"
      ]
     },
     "metadata": {},
     "output_type": "display_data"
    },
    {
     "name": "stdout",
     "output_type": "stream",
     "text": [
      "\n",
      "\n"
     ]
    },
    {
     "data": {
      "text/html": [
       "<b>Metin:</b><br><p>Sürücüsüz arabalar artık sadece insan zihninin bir uydurması değil. Günümüz dünyasında giderek daha fazla insan otonom araçları finanse ediyor ve yaratıyor. Teknoloji ve insan anlayışındaki ilerlemeler bir araya gelerek çok yakında sürücüsüz otomobili karşımıza çıkaracak. İnsan yardımı olmadan bir araba fikri hayaletimsi ama bir o kadar da ilginç. İnsan destekli arabaların yakında geçmişte kalacağına ve bu yeni araçların geliştirilmesinin yeni normal olacağına inanıyorum.<br><br>İnsan sürücüsü olmayan araçlar toplumdaki bir sonraki büyük olaydır. Otomobil üreticileri zaten tehlikeli durumlarda insan yardımına ihtiyaç duyan otomobiller üretti. Bu araçlar, ihtiyacı olan dünyaya güvenlik, konfor ve temizlik sağlayacak. Herkesin asıl amacı yoldayken güvende kalmaktır. Bu yeni araçlarla hiç kimsenin bugün ortaya çıkan tehlikeler konusunda endişelenmesine gerek kalmayacak. Arabalar fren yapacak, hızlanacak ve sürücünün istediği yere gidecek. Uzun yolculukların tüm stresi olmadan, insanlar dinlenebilecek ve önlerine çıkan her şeye karşı uyanık olabilecekler. Kesinlikle gerekli olmadıkça hiç kimsenin müdahale etmesine gerek kalmayacak. Birçok otomobil şirketi ve diğer kuruluşlar sürücüsüz bir otomobile fon sağlamaya karar verdi. Yapılacak doğru şeyin bu olduğuna ve herkesin bu deneyimden yararlanacağına inanıyorum. Bir noktada pek çok kişi bilgisayarların birçok yönden insanlardan daha akıllı olduğunu fark edecek. Her ne kadar birçok kişi bilgisayarların dahili arızalara sahip olacağını ve sorun yaratacağını düşünse de ben durumun böyle olduğunu düşünmüyorum. Bu yeni teknolojiye dahil olan şirketler, nihai ürünlerinden herhangi birinin piyasaya sürülmesinden çok önce ürünü test edecekler. İstedikleri son şey sürücüsüz araba arızası felaketi yaşamaktır. İnsanların bu fikirlere karşı çıkmak yerine onları desteklemesi, nüfusun çoğunluğunun bu araçların sokakta olmasını isteyeceğini gösteriyor. Şu anda kaydedilen ilerlemeler ve halkın desteği bir noktaya işaret ediyor. Tamamen sürücüsüz arabalar çok yakında burada olacak ve herkesin tanıtılması an meselesi.<br><br>Otonom arabalar yakında burada olacak ve yakında herkes sokaklarda dolaşan yeni teknolojiyi tanıyacak. Bu başarının kabul edilmesi, onu anlamaya çalışan herkes için hayret vericidir. Bu yeni normaldir ve önümüzdeki yıllarda da devam edeceği kesindir. Herkes kimsenin kullanmak zorunda olmadığı bir araba görmek isteyecektir. Teknoloji ve anlayış insanları bu noktaya getirdi. Hiç kimsenin en çılgın rüyalarında bile direksiyonunda bir insanın olmadığı bir araba düşünülemezdi. Artık insanların buna inanmaya çalışmasına gerek yok. Bunun olduğunu kabul etmeleri ve anlamaları gerekecek.<br>"
      ],
      "text/plain": [
       "<IPython.core.display.HTML object>"
      ]
     },
     "metadata": {},
     "output_type": "display_data"
    },
    {
     "data": {
      "text/html": [
       "<b>Gerçek Etiket:</b> İnsan Yazımı"
      ],
      "text/plain": [
       "<IPython.core.display.HTML object>"
      ]
     },
     "metadata": {},
     "output_type": "display_data"
    },
    {
     "data": {
      "text/html": [
       "<b>Tahmin Edilen:</b> İnsan Yazımı (%99.95 oranında)<br>"
      ],
      "text/plain": [
       "<IPython.core.display.HTML object>"
      ]
     },
     "metadata": {},
     "output_type": "display_data"
    },
    {
     "name": "stdout",
     "output_type": "stream",
     "text": [
      "\n",
      "\n"
     ]
    },
    {
     "data": {
      "text/html": [
       "<b>Metin:</b><br><p>Sürücüsüz Arabaların Vaadi ve Tehlikeleri<br><br>Sürücüsüz arabalar daha fazla rahatlık ve güvenlik vaat ederken, bunların yaygın olarak benimsenmesi, dikkatli bir şekilde değerlendirilmesi gereken geçerli mahremiyet ve etik kaygıları gündeme getiriyor. Bir yandan, araç kullanmanın insan unsurunu ortadan kaldırmak, insan hatasını, yorgunluğu ve dikkat dağınıklığını ortadan kaldırarak kazaları önemli ölçüde azaltabilir. Otomatik araçlar 360 derecelik sensörlere ve bilgisayarlı reflekslere sahiptir; asla içki içmez, mesaj göndermez veya \"boş\" günleri yaşamaz. Sektör savunucularına göre bu düzeyde bir dikkat her yıl binlerce hayat kurtarabilir. <br><br>Ancak makale aynı zamanda potansiyel olumsuzluklara da dikkat çekiyor. Sürücülerin yerine bilgisayarların kontrolü elinde bulundurmak, bir dereceye kadar mahremiyetten feragat etmek anlamına gelir. Yollarda gezinmek için kullanılan sensörler potansiyel olarak saldırıya uğrayabilir veya verileri kötüye kullanılabilir. Daha da rahatsız edici olanı, yapay bir sistemin, bir grup yayadan kaçınmak için yoldan çıkıp diğerini riske atmak gibi etik muhakeme gerektiren anlık bir durumda nasıl tepki verebileceğidir. Akla gelebilecek herhangi bir senaryoda güvenliğe öncelik vermek için programların titizlikle test edilmesi ve dikkatle tasarlanması gerekir.<br><br>Genel olarak, sürücüsüz arabalar, insan sürücülere göre bariz güvenlik avantajları sunsa da, bunların geliştirilmesi, gizlilik sorunları kapsamlı bir şekilde dikkate alınmadan ve bilgisayar sistemlerinin acil durumlarda insanın etik karar verme sürecini etkili bir şekilde kopyalayabilmesini sağlamadan ilerlememelidir. Sürücüsüz arabaların yaygın kamusal kullanıma hazır kabul edilmesinden önce, bu önemli endişeleri tatmin edici bir şekilde ele almak için daha fazla araştırmaya ihtiyaç var. İnovasyon ile sorumlu gözetim arasında doğru dengeyi yakalamak, bu yeni teknolojinin kabul görmesinin ve doğru şekilde yönlendirilmesinin anahtarı olacaktır. Zorlukların ve önlemlerin açık bir şekilde tartışılmasıyla, sürücüsüz arabalar ulaşımı eninde sonunda geliştirebilir. Ancak bunların avantajları, yeni riskleri makul bir şekilde ele almaya yönelik düşünceli politika ve standartları göz ardı etmek için yeterli neden değildir.<br>"
      ],
      "text/plain": [
       "<IPython.core.display.HTML object>"
      ]
     },
     "metadata": {},
     "output_type": "display_data"
    },
    {
     "data": {
      "text/html": [
       "<b>Gerçek Etiket:</b> Yapay Zeka Üretimi"
      ],
      "text/plain": [
       "<IPython.core.display.HTML object>"
      ]
     },
     "metadata": {},
     "output_type": "display_data"
    },
    {
     "data": {
      "text/html": [
       "<b>Tahmin Edilen:</b> Yapay Zeka Üretimi (%99.88 oranında)<br>"
      ],
      "text/plain": [
       "<IPython.core.display.HTML object>"
      ]
     },
     "metadata": {},
     "output_type": "display_data"
    },
    {
     "name": "stdout",
     "output_type": "stream",
     "text": [
      "\n",
      "\n"
     ]
    },
    {
     "data": {
      "text/html": [
       "<b>Metin:</b><br><p>İnsanların üç nedenden dolayı arabalarına bu kadar güvenmeyi bırakmaları gerektiğini düşünüyorum. Umarım bu, insanların araçları her şey için kullanma konusundaki düşüncelerini değiştirebilir. Sırf bir şeyler atıştırmak için bloklarının köşesine bile gidiyorlar, arabalarını kullanıyorlar.<br><br>İnsanların araba kullanımını gerçekten sınırlamaları gerektiğini düşünmemin ilk nedeni, bunun atmosferde daha az kirliliğe neden olmasıdır. Sürücüler arabalarının kullanımına bir sınır getirmezse küresel ısınmayla karşı karşıya kalabiliriz. Bu pek iyi olmayacak. Örneğin, daha önce otomobillerin nadiren görüldüğü zamanlarda küresel ısınma sorunumuz yoktu, ancak artık otomobiller her yerde görüldüğü için küresel ısınma kapıda.<br><br>İnsanların araba kullanımına bir sınırlama getirmesi gerektiğini düşünmemin aşağıdaki nedeni, daha az trafik olacağı için bunun herkese fayda sağlamasıdır. Trafiğin hiç olmaması, her sabah otoyolu kullanarak işe giden birçok sürücünün ortak hayalidir. Maalesef insanlar arabalarını bırakmak istemedikleri için her gün trafikte sıkışıp kalmak zorunda kalıyorlar. İşe veya bloklarının köşesine gitmek için başka yollar denemeliler. Gidecekleri yere bisikletle gitmeyi denemeliler. Bu iki kat fayda demektir. Vücutlarını çalıştırıyorlar ve küresel ısınmaya neden olabilecek ölümcül gazlarla çevreye zarar vermiyorlar. Robert Duffer'ın ikinci kaynağında \"Fransa'nın başkentinde trafik sıkışıklığının yüzde 60 azaldığını\" belirtiyor.<br><br>Sürücülerin araç kullanımlarını sınırlamaları gerektiğini düşünmemin bir sonraki nedeni, neredeyse her gün ölümcül kazalarla kendilerini öldürmeleridir. Ölümcül kazaların pek çok nedeni var; bunlardan biri mesajlaşmak ve araba kullanmak. Ölümcül araba kazalarının ana nedeni budur. Sarhoş araç kullanmak ikinci sırada yer alıyor. Bununla birlikte, insanlar araç kullanırken dikkat etselerdi daha az araba kazası olur, hatta daha iyisi araba kazalarını önlemek için arabalarını eskisi kadar sık ​​kullanmayı bırakırlar. Bilinen birinin sürüş sırasında dikkati dağılsa bile hala birkaç araba kazası yaşanıyor. Çoğu zaman bu, bilinen birinin hayatını kaybettiği sıradan bir kazadır, ancak çoğu zaman bunun nedeni, sokakların hareket etmeye istekli sürücülerle çok sıkışık olmasıdır. Bu yüzden insanların arabalarına bu kadar güvenmeyi bırakmaları gerektiğini düşünüyorum. Ölüm oranını normal seviyeye indirmek.<br><br>Sonuç olarak, insanların araç kullanımını sınırlaması gerektiğini düşündüğüm bu üç neden, dünyanın trafikte doğal olaylar açısından normal seviyelerde olmamasının nedenleridir. Vatandaşlar araçlarına daha az güvenselerdi, soluduğumuz havada bir değişiklik olduğunu, küresel ısınma olasılığının azaldığını, şehir sokaklarında daha az trafik olduğunu ve daha az insanın öldüğü, daha az ölümcül araba kazası olduğunu görebilirdik.<br>"
      ],
      "text/plain": [
       "<IPython.core.display.HTML object>"
      ]
     },
     "metadata": {},
     "output_type": "display_data"
    },
    {
     "data": {
      "text/html": [
       "<b>Gerçek Etiket:</b> İnsan Yazımı"
      ],
      "text/plain": [
       "<IPython.core.display.HTML object>"
      ]
     },
     "metadata": {},
     "output_type": "display_data"
    },
    {
     "data": {
      "text/html": [
       "<b>Tahmin Edilen:</b> İnsan Yazımı (%99.99 oranında)<br>"
      ],
      "text/plain": [
       "<IPython.core.display.HTML object>"
      ]
     },
     "metadata": {},
     "output_type": "display_data"
    },
    {
     "name": "stdout",
     "output_type": "stream",
     "text": [
      "\n",
      "\n"
     ]
    },
    {
     "data": {
      "text/html": [
       "<b>Metin:</b><br><p>Araştırmalar, lisede kariyere özel dersler sunmanın öğrencilerin gelecekleri için inanılmaz derecede faydalı olabileceğini göstermiştir. Bu tür kurslar onlara henüz lisedeyken çeşitli kariyer yollarını keşfetme fırsatı sunabilir ve bireysel tutkuları ve becerileri ışığında daha bilinçli kararlar alma ve kariyer kararları verme becerisini sağlayabilir. Ayrıca, bu tür kursların sunulması, öğrencilere gelecekteki mesleklerinde başarı için gerekli olan iletişim, işbirliği ve problem çözme gibi temel becerileri de kazandırabilir.Ancak lisede kariyer dersleri almanın bazı dezavantajları da var. Birincisi, kariyer kursları her zaman bir okul sistemindeki genel müfredata uymayabilir. Ayrıca maddi veya diğer kısıtlamalar nedeniyle tüm öğrenciler bu kurslara erişemeyebilir. Son olarak, kariyer dersleri aşırı uzmanlaşmış olabilir veya öğrencilerin farklı yolları keşfetmesini kısıtlayabilir, böylece bazı öğrencileri gelecekte ortaya çıkabilecek fırsatlara hazırlıksız bırakabilir.<br>"
      ],
      "text/plain": [
       "<IPython.core.display.HTML object>"
      ]
     },
     "metadata": {},
     "output_type": "display_data"
    },
    {
     "data": {
      "text/html": [
       "<b>Gerçek Etiket:</b> Yapay Zeka Üretimi"
      ],
      "text/plain": [
       "<IPython.core.display.HTML object>"
      ]
     },
     "metadata": {},
     "output_type": "display_data"
    },
    {
     "data": {
      "text/html": [
       "<b>Tahmin Edilen:</b> Yapay Zeka Üretimi (%100.00 oranında)<br>"
      ],
      "text/plain": [
       "<IPython.core.display.HTML object>"
      ]
     },
     "metadata": {},
     "output_type": "display_data"
    },
    {
     "name": "stdout",
     "output_type": "stream",
     "text": [
      "\n",
      "\n"
     ]
    },
    {
     "data": {
      "text/html": [
       "<b>Metin:</b><br><p>Seçim günü geldiğinde ve son bir saat boyunca kuyrukta bekledikten sonra nihayet oyunuzu bale kutusuna bıraktığınızda, seçtiğiniz adayın oy direğinin tepesine çıkmasına yardımcı olduğunuzu bilerek oradan ayrılırsınız. Ah ne kadar da yanılıyorsun. Amerika Birleşik Devletleri, Seçim Kurulu adı verilen bir oylama sistemi üzerinde çalışıyor. \"Seçim kurulu sisteminde seçmenler başkana değil, seçmenlerden oluşan bir listeye oy veriyor ve onlar da başkanı seçiyor.\" Plumer 10. Bu sistem zamana karşı dayanıklı olmasına rağmen kusurlarını yeterince uzun süre maskelemiştir. \"Seçmenlerin yüzde 60'ı şu anda sahip olduğumuz türden doğrudan seçimi tercih eder.\" Plumer 9. İnsanlar konuştu, şimdi lojistiği yıkmanın zamanı geldi...<br><br>Seçim kolejindeki kusurları anlamak için seçim kolejinin ne olduğunu ve nasıl ortaya çıktığını bilmeniz gerekir. \"Seçim Kurulu süreci seçmenlerin seçiminden, seçmenlerin Başkan ve Başkan Yardımcısı için oy kullandıkları toplantıdan ve seçici oyların Kongre tarafından sayılmasından oluşur.\" Federal Kayıt Ofisi 2. Bu sistem, kurucu babalar tarafından kongre oyu ile halk oyu arasında bir uzlaşma olarak yaratıldı. Ancak bu yeni, ayrı oylama sisteminin bir nedeni vardı. Kurucu babalar kendi dönemlerinde ülkenin en eğitimli adamları arasındaydı. O zamanlar eğitim standart değildi ve çok az insan okuma yazma biliyordu. Kurucu babalar eğitimsiz vatandaşların ülkeyi yönetecek kişiye oy vermesini istemediler. Böylece eğitimsizlerin bir grup eğitimli erkeğe oy vereceği ve onların da bir başkana oy vereceği bir sistem yarattılar. Böylece seçim koleji doğdu. Kurucu babalar bu sistemi oluşturmanın nedenleri kendi zamanlarında ve çağlarında haklıydı. Ancak o zamandan bu yana dünya değişti. Günümüzde eğitim standarttır ve insanlar her adayın neler sunabileceğini ve ülkemizi refaha doğru kimin yönlendirebileceğini bilecek kadar sağduyuya sahiptir. Eğer Amerika Birleşik Devletleri vatandaşları iyi eğitimliyse bu engeli neden kaldıralım ki?<br><br>Seçim kuruluyla ilgili bir diğer büyük sorun da büyük eyaletlere yönelik kayırmacılıktır. Amerika Birleşik Devletleri, her şeyi yöneten merkezi bir hükümet yerine, gücü halka veren federalizm ve demokrasi üzerine kuruldu. Yani siyasette eşit söz hakkımıza aykırı olan her türlü politikanın kaldırılması gerekir, değil mi? Seçim Kurulu kapsamında eyalet başına seçmen sayısı, eyaletin kongrede sahip olduğu temsilci sayısına göre belirlenir. \"...Temsilciler Meclisindeki her üye için bir tane artı senatörleriniz için de iki...\" Federal Kayıt Ofisi 3. Bu sistem nüfusa dayalı olduğundan, büyük eyaletler küçük eyaletlere göre çok daha önceliklidir. \"2012'de Florida'da halk oyu birbirine çok yakındı, ancak bu oyu kazanan Obama 29 seçici delege oyu aldı. Wyoming'de aynı farkla kazanılacak bir zafer, kazanana sadece 3 seçici delege oyu kazandıracak.\" Posner 21. Bu, başkan adaylarının yalnızca birkaç oy sağlayan küçük eyaletler yerine, daha fazla seçmen oyu alan daha büyük değişken eyaletlere hitap etmeye odaklanacağı anlamına geliyor. Bu adil değil mi şimdi? Bir eyaletin nüfusu ne kadar küçük olursa olsun, yine de ABD vatandaşlarından oluşur ve onlar da en az daha büyük bir eyalet kadar söz sahibi olmayı hak ederler. Sonuçta ülkemizin üzerine kurulduğu kavram budur; eşitlik ve özgürlük.<br><br>Eğer Seçim Kurulu şu anda kusurlu bir sistem gibi görünmüyorsa, küçük Seçim denklemimizdeki son bir değişkene gözlerinizi açmama izin verin. Afet faktörü. Felaket faktörü, insanların iradesiyle ve istediklerini elde etmek için her şeyi yapmalarıyla ilgilidir. \"1960 yılında, Louisiana yasama meclisindeki ayrımcılar Demokrat seçmenlerin yerine John F. Kennedy'ye karşı çıkacak yeni seçmenleri geçirmeyi neredeyse başardılar. Böylece Kennedy'ye verilen halk oyu gerçekte Kennedy'ye gitmeyecekti.\" Plumer 11. Bu tür bir senaryo, ezici bir zafere yönelik yakın bir çağrıyı tamamen değiştirebilir! 1960 seçimleri de bunun tek örneği değil. Hawaii kongreye iki seçmen listesi gönderdiğinde ve diğer çeşitli durumlarda seçmenler belirlenen adaylara oy vermediğinde de aynı durum yaşandı. Son olarak, Al Gore'un halk oylarını kazandığı ancak Seçim Kurulunu kaybettiği 2000 seçimleri var! Eğer tek bir kişi alışılmışın dışına çıkmaya karar verirse her şey boşa gider.<br><br>Durum ve gerçek şu ki, Seçim Kurulu kusurlu bir sistemdir. İnsanlar eğitimli ve başkan olarak akıllıca bir seçim yapabilirler, herkes siyasi dünyada adil söz hakkına sahiptir ve insanların, Seçim Kurulunun izin verdiği yolsuzluğa gözlerini açması gerekmektedir. Kurucu babaların zamanında bu mantıklı gelebilir ama şimdi artık halkın istediği popüler oy sistemini benimsemenin zamanı geldi.<br>"
      ],
      "text/plain": [
       "<IPython.core.display.HTML object>"
      ]
     },
     "metadata": {},
     "output_type": "display_data"
    },
    {
     "data": {
      "text/html": [
       "<b>Gerçek Etiket:</b> İnsan Yazımı"
      ],
      "text/plain": [
       "<IPython.core.display.HTML object>"
      ]
     },
     "metadata": {},
     "output_type": "display_data"
    },
    {
     "data": {
      "text/html": [
       "<b>Tahmin Edilen:</b> İnsan Yazımı (%100.00 oranında)<br>"
      ],
      "text/plain": [
       "<IPython.core.display.HTML object>"
      ]
     },
     "metadata": {},
     "output_type": "display_data"
    },
    {
     "name": "stdout",
     "output_type": "stream",
     "text": [
      "\n",
      "\n"
     ]
    },
    {
     "data": {
      "text/html": [
       "<b>Metin:</b><br><p>Dengeli bir iş ve boş zaman aktiviteleri yaşam tarzına sahip olmak, sağlıklı ve tatmin edici bir yaşam için çok önemlidir. Para kazanmak ve kendimizin ve ailemizin geçimini sağlamak için çalışmak gerekli olsa da, mutlu ve sağlıklı kalabilmek için boş zaman etkinlikleriyle dengelenmelidir.Denge olmadan, zamanımızın çoğunu çalışmaya ayırarak hızla bunalabilir ve tükenebiliriz ya da tam tersi olabilir. Boş zaman aktivitelerine zaman ayırmadan çok fazla iş yapmak stresin ve hayal kırıklığının artmasına neden olur ve hatta baş ağrısı, yorgunluk ve bağışıklık sisteminin zayıflaması gibi fiziksel hastalıklara bile yol açabilir. Tersine, eğer kendimizi çalışmaya motive edemezsek, kendimizin ve ailemizin geçimini sağlayamayız, bu da çok büyük mali ve duygusal baskıya neden olur.İşimizi boş zaman etkinlikleriyle dengeleyerek mutlu ve stressiz kalabiliyoruz. Hobilerle meşgul olmak, arkadaşlarınızla ve ailenizle vakit geçirmek, hatta mahallede yürüyüş yapmak bile stresi hafifletmeye ve hayata daha olumlu bir bakış açısı kazandırmaya yardımcı olabilir. Ayrıca sorumluluk sahibi olmanın ve çok çalışmanın getirdiği maddi güvence ve özgürlüğe sahip olmak da memnuniyet duygusunu artırıyor.Sonuç olarak, hem iş hem de boş zaman aktivitelerinden oluşan dengeli bir yaşam tarzına sahip olmanın genel refahımıza faydalı olduğu açıktır. Dengeli bir yaşam tarzını sürdürmek için bilinçli çaba göstermek bize tatmin, güvenlik ve neşe duygusu sağlar.<br>"
      ],
      "text/plain": [
       "<IPython.core.display.HTML object>"
      ]
     },
     "metadata": {},
     "output_type": "display_data"
    },
    {
     "data": {
      "text/html": [
       "<b>Gerçek Etiket:</b> Yapay Zeka Üretimi"
      ],
      "text/plain": [
       "<IPython.core.display.HTML object>"
      ]
     },
     "metadata": {},
     "output_type": "display_data"
    },
    {
     "data": {
      "text/html": [
       "<b>Tahmin Edilen:</b> Yapay Zeka Üretimi (%100.00 oranında)<br>"
      ],
      "text/plain": [
       "<IPython.core.display.HTML object>"
      ]
     },
     "metadata": {},
     "output_type": "display_data"
    },
    {
     "name": "stdout",
     "output_type": "stream",
     "text": [
      "\n",
      "\n"
     ]
    }
   ],
   "source": [
    "for text, label, pred, prob in zip(sample_texts, sample_labels, sample_preds, sample_preds_probs.flatten()):\n",
    "    actual_label = 'Yapay Zeka Üretimi' if label == 1 else 'İnsan Yazımı'\n",
    "    predicted_label = 'Yapay Zeka Üretimi' if pred == 1 else 'İnsan Yazımı'\n",
    "    confidence = prob * 100 if pred == 1 else (1 - prob) * 100\n",
    "    formatted_text = text.replace('\\n', '<br>')\n",
    "    display(HTML(f\"<b>Metin:</b><br><p>{formatted_text}<br>\"))\n",
    "    display(HTML(f\"<b>Gerçek Etiket:</b> {actual_label}\"))\n",
    "    display(HTML(f\"<b>Tahmin Edilen:</b> {predicted_label} (%{confidence:.2f} oranında)<br>\"))\n",
    "    print(\"\\n\")\n"
   ]
  },
  {
   "cell_type": "markdown",
   "id": "c50d186b",
   "metadata": {},
   "source": [
    "### Modelin performansını değerlendirme"
   ]
  },
  {
   "cell_type": "code",
   "execution_count": 22,
   "id": "beed412e",
   "metadata": {},
   "outputs": [
    {
     "name": "stdout",
     "output_type": "stream",
     "text": [
      "115/115 [==============================] - 5s 44ms/step - loss: 0.0283 - accuracy: 0.9910\n",
      "Modelin doğruluğu: 99.10%\n"
     ]
    }
   ],
   "source": [
    "loss, accuracy = model.evaluate(X_test, y_test)\n",
    "accuracy_percent = accuracy * 100\n",
    "print(f\"Modelin doğruluğu: {accuracy_percent:.2f}%\")"
   ]
  },
  {
   "cell_type": "markdown",
   "id": "a0f626e9",
   "metadata": {},
   "source": [
    "### Eğitim ve doğrulama kaybı ve doğruluğu grafiği"
   ]
  },
  {
   "cell_type": "code",
   "execution_count": 23,
   "id": "e0804ce5",
   "metadata": {},
   "outputs": [
    {
     "data": {
      "image/png": "[encoded data removed]",
      "text/plain": [
       "<Figure size 1200x600 with 2 Axes>"
      ]
     },
     "metadata": {},
     "output_type": "display_data"
    }
   ],
   "source": [
    "plt.figure(figsize=(12, 6))\n",
    "\n",
    "# Kaybı çizme\n",
    "plt.subplot(1, 2, 1)\n",
    "plt.plot(history.history['loss'], label='Eğitim Kaybı')\n",
    "plt.plot(history.history['val_loss'], label='Doğrulama Kaybı')\n",
    "plt.title('Eğitim ve Doğrulama Kaybı')\n",
    "plt.xlabel('Epochs')\n",
    "plt.ylabel('Kayıp')\n",
    "plt.legend()\n",
    "\n",
    "# Doğruluğu çizme\n",
    "plt.subplot(1, 2, 2)\n",
    "plt.plot(history.history['accuracy'], label='Eğitim Doğruluğu')\n",
    "plt.plot(history.history['val_accuracy'], label='Doğrulama Doğruluğu')\n",
    "plt.title('Eğitim ve Doğrulama Doğruluğu')\n",
    "plt.xlabel('Epochs')\n",
    "plt.ylabel('Doğruluk')\n",
    "plt.legend()\n",
    "\n",
    "plt.show()\n"
   ]
  },
  {
   "cell_type": "markdown",
   "id": "397e9e71",
   "metadata": {},
   "source": [
    "### Karışıklık matrisi oluşturma ve görselleştirme"
   ]
  },
  {
   "cell_type": "code",
   "execution_count": 24,
   "id": "4a504f8c",
   "metadata": {},
   "outputs": [
    {
     "name": "stdout",
     "output_type": "stream",
     "text": [
      "115/115 [==============================] - 5s 41ms/step\n"
     ]
    },
    {
     "data": {
      "image/png": "[encoded data removed]",
      "text/plain": [
       "<Figure size 640x480 with 2 Axes>"
      ]
     },
     "metadata": {},
     "output_type": "display_data"
    }
   ],
   "source": [
    "y_pred_probs = model.predict(X_test)\n",
    "y_pred = (y_pred_probs > 0.5).astype(int).flatten()\n",
    "cm = confusion_matrix(y_test, y_pred)\n",
    "disp = ConfusionMatrixDisplay(confusion_matrix=cm, display_labels=['İnsan Yazımı', 'Yapay Zeka Üretimi'])\n",
    "disp.plot(cmap=plt.cm.Blues)\n",
    "plt.title(\"Karışıklık Matrisi\")\n",
    "plt.xlabel(\"Tahmin Edilen Etiket\")\n",
    "plt.ylabel(\"Gerçek Etiket\")\n",
    "plt.show()\n"
   ]
  },
  {
   "cell_type": "markdown",
   "id": "1ff7c16b",
   "metadata": {},
   "source": [
    "### Dışarıdan bir metni tanımlama ve insan yazımı mı yoksa yapay zeka üretimi mi olduğunu tespit etme"
   ]
  },
  {
   "cell_type": "code",
   "execution_count": 25,
   "id": "64fd9c21",
   "metadata": {},
   "outputs": [],
   "source": [
    "def predict_text_origin(text):\n",
    "    text_vector = text_to_vector(text, max_length, word_vectors)\n",
    "    text_vector = np.expand_dims(text_vector, axis=0)\n",
    "    prediction_prob = model.predict(text_vector).flatten()[0]\n",
    "    prediction = (prediction_prob > 0.5).astype(int)\n",
    "    confidence = prediction_prob * 100 if prediction == 1 else (1 - prediction_prob) * 100\n",
    "    return 'Yapay Zeka Üretimi' if prediction == 1 else 'İnsan Yazımı', confidence\n"
   ]
  },
  {
   "cell_type": "markdown",
   "id": "9081e150",
   "metadata": {},
   "source": [
    "### Metin dosyasını yükleme ve tahmin yapma"
   ]
  },
  {
   "cell_type": "code",
   "execution_count": 27,
   "id": "0b7012b1",
   "metadata": {},
   "outputs": [
    {
     "name": "stdout",
     "output_type": "stream",
     "text": [
      "1/1 [==============================] - 0s 74ms/step\n"
     ]
    },
    {
     "data": {
      "text/html": [
       "<b>Metin:</b><br><p>  Derin öğrenme, makine öğrenmesinin bir alt dalı olarak insan beyninin çalışma prensiplerinden esinlenen yapay sinir ağlarını kullanarak büyük miktarda veri üzerinde öğrenme işlemleri gerçekleştirir. Bu teknik, karmaşık ve yüksek boyutlu verileri işlemek ve anlamlandırmak için kullanılır. Derin öğrenme algoritmaları, çok katmanlı yapay sinir ağları aracılığıyla verilerden otomatik olarak özellikler çıkarır ve öğrenir. Geleneksel makine öğrenmesi yöntemlerinden farklı olarak, derin öğrenme algoritmaları özellik mühendisliği gerektirmez; bunun yerine, sinir ağlarının çeşitli katmanları verilerden anlamlı özellikleri otomatik olarak öğrenir. Yapay sinir ağları, birbirine bağlı yapay nöronlardan oluşur. Her nöron, bir dizi giriş alır, bu girdileri ağırlıklandırır ve bir aktivasyon fonksiyonu kullanarak bir çıktı üretir. Derin öğrenme modelleri, çok sayıda gizli katman içeren derin sinir ağları kullanarak öğrenme işlemlerini gerçekleştirir. Bu ağlar, verinin özelliklerini temsil eden daha yüksek seviyeli soyutlamaları öğrenir. Eğitim süreci, büyük veri kümeleri ve güçlü hesaplama kaynakları kullanılarak gerçekleştirilir. Geri yayılım algoritması kullanılarak ağın ağırlıkları güncellenir ve hatayı minimize etmek için çok sayıda iterasyon boyunca bu işlem devam eder. Bu süreç, modelin tahmin doğruluğunu artırmayı amaçlar.<br>  <br>  Derin öğrenme, görüntü işleme, doğal dil işleme, ses tanıma, tıbbi teşhis ve otonom araçlar gibi birçok alanda başarılı bir şekilde uygulanmaktadır. Örneğin, derin öğrenme algoritmaları yüz tanıma sistemlerinde, sesli asistanlarda ve tıbbi görüntülerin analizi gibi kompleks görevlerde üstün performans göstermektedir. Bu teknoloji, büyük ve karmaşık veri kümeleri üzerinde yüksek performans sağlar ve özellikle büyük veri ve yüksek hesaplama gücüne sahip durumlarda geleneksel makine öğrenmesi yöntemlerinden daha iyi sonuçlar verebilir. Ancak, derin öğrenme modellerinin eğitimi çok fazla veri ve hesaplama gücü gerektirir. Ayrıca, bu modellerin yorumlanabilirliği ve anlaşılabilirliği geleneksel yöntemlere göre daha düşüktür. Bu, kullanıcıların modelin nasıl çalıştığını anlamasını zorlaştırabilir. Derin öğrenme, modern yapay zeka uygulamalarının temelini oluşturarak birçok endüstride devrim niteliğinde ilerlemeler sağlamaktadır. Teknolojinin ilerlemesiyle birlikte, derin öğrenmenin yetenekleri ve uygulama alanları da genişlemeye devam etmektedir.<br>"
      ],
      "text/plain": [
       "<IPython.core.display.HTML object>"
      ]
     },
     "metadata": {},
     "output_type": "display_data"
    },
    {
     "data": {
      "text/html": [
       "<b>Tahmin Edilen:</b> Yapay Zeka Üretimi (%100.00 oranında)<br>"
      ],
      "text/plain": [
       "<IPython.core.display.HTML object>"
      ]
     },
     "metadata": {},
     "output_type": "display_data"
    }
   ],
   "source": [
    "def predict_text_from_file(file_path):\n",
    "    with open(file_path, 'r', encoding='utf-8') as file:\n",
    "        text = file.read()\n",
    "    formatted_text = text.replace('\\n', '<br>')  # Paragraf ayrımlarını koru\n",
    "    prediction, confidence = predict_text_origin(text)\n",
    "    \n",
    "    display(HTML(f\"<b>Metin:</b><br><p>{formatted_text}<br>\"))\n",
    "    display(HTML(f\"<b>Tahmin Edilen:</b> {prediction} (%{confidence:.2f} oranında)<br>\"))\n",
    "\n",
    "file_path = \"OrnekYapayZekaMetni.txt\" \n",
    "predict_text_from_file(file_path) "
   ]
  },
  {
   "cell_type": "code",
   "execution_count": null,
   "id": "16379d9e",
   "metadata": {},
   "outputs": [],
   "source": []
  }
 ],
 "metadata": {
  "kernelspec": {
   "display_name": "Python 3 (ipykernel)",
   "language": "python",
   "name": "python3"
  },
  "language_info": {
   "codemirror_mode": {
    "name": "ipython",
    "version": 3
   },
   "file_extension": ".py",
   "mimetype": "text/x-python",
   "name": "python",
   "nbconvert_exporter": "python",
   "pygments_lexer": "ipython3",
   "version": "3.11.5"
  }
 },
 "nbformat": 4,
 "nbformat_minor": 5
}
